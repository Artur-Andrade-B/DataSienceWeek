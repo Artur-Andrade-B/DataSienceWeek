{
 "cells": [
  {
   "cell_type": "markdown",
   "metadata": {},
   "source": [
    "# Listas"
   ]
  },
  {
   "cell_type": "code",
   "execution_count": 8,
   "metadata": {},
   "outputs": [],
   "source": [
    "tipo_imovel = [\"residencial\", \"comercial\", \"fazendo\"]"
   ]
  },
  {
   "cell_type": "markdown",
   "metadata": {},
   "source": [
    "# Tupula"
   ]
  },
  {
   "cell_type": "code",
   "execution_count": 9,
   "metadata": {},
   "outputs": [],
   "source": [
    "tipo_imovel = (\"residencial\", \"comercial\", \"fazendo\")"
   ]
  },
  {
   "cell_type": "markdown",
   "metadata": {},
   "source": [
    "# Conjunto"
   ]
  },
  {
   "cell_type": "code",
   "execution_count": 10,
   "metadata": {},
   "outputs": [
    {
     "data": {
      "text/plain": [
       "set"
      ]
     },
     "execution_count": 10,
     "metadata": {},
     "output_type": "execute_result"
    }
   ],
   "source": [
    "tipo_imovel = {\"residencial\", \"comercial\", \"fazenda\", \"comercial\", \"fazenda\"}\n",
    "tipo_imovel\n",
    "type(tipo_imovel)"
   ]
  },
  {
   "cell_type": "markdown",
   "metadata": {},
   "source": [
    "## Atividade\n",
    " - Lista de vitorias do brasil\n",
    " - Tupla de fastfood\n",
    " - Crie conjunto de itens de compra de supermercado"
   ]
  },
  {
   "cell_type": "code",
   "execution_count": 11,
   "metadata": {},
   "outputs": [
    {
     "name": "stdout",
     "output_type": "stream",
     "text": [
      "O brasil teve vitorias nos anos de [1990, 1996, 2017, 2021, 2010, 2019, 2018, 2006]\n",
      "o caradpio é ('Hamburguer de carne', 'Hamburguer de frango', 'Hamburguer de peixe')\n",
      "Compre os seguinte items: {'Peixe', 'Frango', 'Carne'}\n"
     ]
    }
   ],
   "source": [
    "import random\n",
    "V_B = [1990]\n",
    "C_FF = ()\n",
    "L_C = {}\n",
    "i = 0\n",
    "\n",
    "while i != 9:\n",
    "    i = i + 1\n",
    "\n",
    "    if i != 8:\n",
    "        value = random.randrange(1990, 2022)\n",
    "        V_B.append(value)\n",
    "        \n",
    "    else:\n",
    "        V_B.sort    \n",
    "        print(f\"O brasil teve vitorias nos anos de {V_B}\")\n",
    "\n",
    "C_FF = (\"Hamburguer de carne\", \"Hamburguer de frango\", \"Hamburguer de peixe\")\n",
    "print(f\"o caradpio é {C_FF}\")\n",
    "\n",
    "L_C = {\"Carne\", \"Frango\", \"Carne\", \"Peixe\"}\n",
    "print(f\"Compre os seguinte items: {L_C}\")"
   ]
  },
  {
   "cell_type": "markdown",
   "metadata": {},
   "source": [
    "# Dicionario"
   ]
  },
  {
   "cell_type": "code",
   "execution_count": 12,
   "metadata": {},
   "outputs": [
    {
     "name": "stdout",
     "output_type": "stream",
     "text": [
      "5\n",
      "taguatinga: 3\n",
      "brazlandia: 5\n",
      "ceilandia: 6\n"
     ]
    }
   ],
   "source": [
    "# Making a dictionary\n",
    "\n",
    "apartamentos = {\n",
    "    \"taguatinga\":3,\n",
    "    \"brazlandia\":5\n",
    "}\n",
    "\n",
    "# Using the values inside the dictionary\n",
    "\n",
    "print(apartamentos[\"brazlandia\"])\n",
    "\n",
    "# Adding a new value in the dictionary\n",
    "\n",
    "apartamentos[\"ceilandia\"] = 6\n",
    "\n",
    "# Using a for loop to show the values inside the dictionary\n",
    "\n",
    "for apartamento, values in apartamentos.items():\n",
    "    print(f\"{apartamento}: {values}\")\n"
   ]
  },
  {
   "cell_type": "markdown",
   "metadata": {},
   "source": [
    "# Exercicio\n",
    "    - Realizar um dicionario \"estudo quinta\"\n",
    "    - Realizar um dicionario \"estudo sexta\""
   ]
  },
  {
   "cell_type": "code",
   "execution_count": 20,
   "metadata": {},
   "outputs": [
    {
     "name": "stdout",
     "output_type": "stream",
     "text": [
      "o estudo de Objeto vai demorar 52 minutos\n",
      "o estudo de Classe vai demorar 53 minutos\n",
      "o estudo de Metodo vai demorar 22 minutos\n",
      "\n",
      "=============================================\n",
      "\n",
      "o estudo de Media vai demorar 22 minutos\n",
      "o estudo de Mediana vai demorar 22 minutos\n",
      "o estudo de Moda vai demorar 22 minutos\n",
      "o estudo de Quatis vai demorar 22 minutos\n",
      "o estudo de Desvio Padrao vai demorar 22 minutos\n"
     ]
    }
   ],
   "source": [
    "import random\n",
    "\n",
    "quinta_estudo = {\n",
    "    \"Objeto\": random.randrange(5, 59),\n",
    "    \"Classe\": random.randrange(5, 59),\n",
    "    \"Metodo\": random.randrange(5, 59)\n",
    "}\n",
    "\n",
    "sexta_estudo = {\n",
    "    \"Media\": random.randrange(5, 59),\n",
    "    \"Mediana\": random.randrange(5, 59),\n",
    "    \"Moda\": random.randrange(5, 59),\n",
    "    \"Quatis\": random.randrange(5, 59),\n",
    "    \"Desvio Padrao\": random.randrange(5, 59)\n",
    "}\n",
    "\n",
    "for k_dic, i in quinta_estudo.items():\n",
    "    print(f\"o estudo de {k_dic} vai demorar {i} minutos\")\n",
    "\n",
    "print(f\"\\n{\"=\"*45}\\n\")\n",
    "\n",
    "for k_dic_s, v in sexta_estudo.items():\n",
    "    print(f\"o estudo de {k_dic_s} vai demorar {i} minutos\")"
   ]
  }
 ],
 "metadata": {
  "kernelspec": {
   "display_name": ".venv",
   "language": "python",
   "name": "python3"
  },
  "language_info": {
   "codemirror_mode": {
    "name": "ipython",
    "version": 3
   },
   "file_extension": ".py",
   "mimetype": "text/x-python",
   "name": "python",
   "nbconvert_exporter": "python",
   "pygments_lexer": "ipython3",
   "version": "3.12.4"
  }
 },
 "nbformat": 4,
 "nbformat_minor": 2
}
